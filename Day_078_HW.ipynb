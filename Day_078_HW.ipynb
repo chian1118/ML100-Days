{
 "cells": [
  {
   "cell_type": "markdown",
   "metadata": {},
   "source": [
    "## Work\n",
    "1. 請嘗試將 preproc_x 替換成以每筆資料的 min/max 進行標準化至 -1 ~ 1 間，再進行訓練\n",
    "2. 請嘗試將 mlp 疊更深 (e.g 5~10 層)，進行訓練後觀察 learning curve 的走勢\n",
    "3. (optional) 請改用 GPU 進行訓練 (如果你有 GPU 的話)，比較使用 CPU 與 GPU 的訓練速度"
   ]
  },
  {
   "cell_type": "code",
   "execution_count": 1,
   "metadata": {},
   "outputs": [],
   "source": [
    "## 確認硬體資源\n",
    "\"\"\"\n",
    "Your code here\n",
    "\"\"\"\n"
   ]
  },
  {
   "cell_type": "code",
   "execution_count": 4,
   "metadata": {},
   "outputs": [],
   "source": [
    "import os\n",
    "import keras\n",
    "import numpy as np\n",
    "\n",
    "# Try to enable GPU (optional)\n",
    "os.environ[\"CUDA_VISIBLE_DEVICES\"] = \"\""
   ]
  },
  {
   "cell_type": "code",
   "execution_count": 2,
   "metadata": {},
   "outputs": [],
   "source": [
    "train, test = keras.datasets.cifar10.load_data()"
   ]
  },
  {
   "cell_type": "code",
   "execution_count": 5,
   "metadata": {},
   "outputs": [
    {
     "ename": "ValueError",
     "evalue": "could not broadcast input array from shape (50000,32,32,3) into shape (50000)",
     "output_type": "error",
     "traceback": [
      "\u001b[1;31m---------------------------------------------------------------------------\u001b[0m",
      "\u001b[1;31mValueError\u001b[0m                                Traceback (most recent call last)",
      "\u001b[1;32m<ipython-input-5-130a3e43e2b1>\u001b[0m in \u001b[0;36m<module>\u001b[1;34m\u001b[0m\n\u001b[1;32m----> 1\u001b[1;33m \u001b[0mnp\u001b[0m\u001b[1;33m.\u001b[0m\u001b[0mmax\u001b[0m\u001b[1;33m(\u001b[0m\u001b[0mtrain\u001b[0m\u001b[1;33m,\u001b[0m \u001b[0maxis\u001b[0m\u001b[1;33m=\u001b[0m\u001b[1;36m1\u001b[0m\u001b[1;33m)\u001b[0m\u001b[1;33m\u001b[0m\u001b[1;33m\u001b[0m\u001b[0m\n\u001b[0m",
      "\u001b[1;32m~\\AppData\\Local\\Continuum\\anaconda3\\lib\\site-packages\\numpy\\core\\fromnumeric.py\u001b[0m in \u001b[0;36mamax\u001b[1;34m(a, axis, out, keepdims, initial)\u001b[0m\n\u001b[0;32m   2503\u001b[0m     \"\"\"\n\u001b[0;32m   2504\u001b[0m     return _wrapreduction(a, np.maximum, 'max', axis, None, out, keepdims=keepdims,\n\u001b[1;32m-> 2505\u001b[1;33m                           initial=initial)\n\u001b[0m\u001b[0;32m   2506\u001b[0m \u001b[1;33m\u001b[0m\u001b[0m\n\u001b[0;32m   2507\u001b[0m \u001b[1;33m\u001b[0m\u001b[0m\n",
      "\u001b[1;32m~\\AppData\\Local\\Continuum\\anaconda3\\lib\\site-packages\\numpy\\core\\fromnumeric.py\u001b[0m in \u001b[0;36m_wrapreduction\u001b[1;34m(obj, ufunc, method, axis, dtype, out, **kwargs)\u001b[0m\n\u001b[0;32m     84\u001b[0m                 \u001b[1;32mreturn\u001b[0m \u001b[0mreduction\u001b[0m\u001b[1;33m(\u001b[0m\u001b[0maxis\u001b[0m\u001b[1;33m=\u001b[0m\u001b[0maxis\u001b[0m\u001b[1;33m,\u001b[0m \u001b[0mout\u001b[0m\u001b[1;33m=\u001b[0m\u001b[0mout\u001b[0m\u001b[1;33m,\u001b[0m \u001b[1;33m**\u001b[0m\u001b[0mpasskwargs\u001b[0m\u001b[1;33m)\u001b[0m\u001b[1;33m\u001b[0m\u001b[1;33m\u001b[0m\u001b[0m\n\u001b[0;32m     85\u001b[0m \u001b[1;33m\u001b[0m\u001b[0m\n\u001b[1;32m---> 86\u001b[1;33m     \u001b[1;32mreturn\u001b[0m \u001b[0mufunc\u001b[0m\u001b[1;33m.\u001b[0m\u001b[0mreduce\u001b[0m\u001b[1;33m(\u001b[0m\u001b[0mobj\u001b[0m\u001b[1;33m,\u001b[0m \u001b[0maxis\u001b[0m\u001b[1;33m,\u001b[0m \u001b[0mdtype\u001b[0m\u001b[1;33m,\u001b[0m \u001b[0mout\u001b[0m\u001b[1;33m,\u001b[0m \u001b[1;33m**\u001b[0m\u001b[0mpasskwargs\u001b[0m\u001b[1;33m)\u001b[0m\u001b[1;33m\u001b[0m\u001b[1;33m\u001b[0m\u001b[0m\n\u001b[0m\u001b[0;32m     87\u001b[0m \u001b[1;33m\u001b[0m\u001b[0m\n\u001b[0;32m     88\u001b[0m \u001b[1;33m\u001b[0m\u001b[0m\n",
      "\u001b[1;31mValueError\u001b[0m: could not broadcast input array from shape (50000,32,32,3) into shape (50000)"
     ]
    }
   ],
   "source": [
    "np.max(train, axis=1)"
   ]
  },
  {
   "cell_type": "code",
   "execution_count": 8,
   "metadata": {},
   "outputs": [],
   "source": [
    "## 資料前處理\n",
    "\"\"\"\n",
    "Your code here\n",
    "\"\"\"\n",
    "def preproc_x(x, flatten=True):\n",
    "    x = 2*(((x - x.min()) / (x.max() - x.min()))-0.5)\n",
    "    if flatten:\n",
    "        x = x.reshape((len(x), -1))\n",
    "    return x\n",
    "\n",
    "def preproc_y(y, num_classes=10):\n",
    "    if y.shape[-1] == 1:\n",
    "        y = keras.utils.to_categorical(y, num_classes)\n",
    "    return y   "
   ]
  },
  {
   "cell_type": "code",
   "execution_count": 9,
   "metadata": {},
   "outputs": [],
   "source": [
    "x_train, y_train = train\n",
    "x_test, y_test = test\n",
    "\n",
    "# Preproc the inputs\n",
    "x_train = preproc_x(x_train)\n",
    "x_test = preproc_x(x_test)\n",
    "\n",
    "# Preprc the outputs\n",
    "y_train = preproc_y(y_train)\n",
    "y_test = preproc_y(y_test)"
   ]
  },
  {
   "cell_type": "code",
   "execution_count": 14,
   "metadata": {},
   "outputs": [
    {
     "name": "stdout",
     "output_type": "stream",
     "text": [
      "_________________________________________________________________\n",
      "Layer (type)                 Output Shape              Param #   \n",
      "=================================================================\n",
      "input_2 (InputLayer)         (None, 3072)              0         \n",
      "_________________________________________________________________\n",
      "hidden_layer1 (Dense)        (None, 512)               1573376   \n",
      "_________________________________________________________________\n",
      "hidden_layer2 (Dense)        (None, 256)               131328    \n",
      "_________________________________________________________________\n",
      "hidden_layer3 (Dense)        (None, 128)               32896     \n",
      "_________________________________________________________________\n",
      "hidden_layer4 (Dense)        (None, 128)               16512     \n",
      "_________________________________________________________________\n",
      "hidden_layer5 (Dense)        (None, 128)               16512     \n",
      "_________________________________________________________________\n",
      "output (Dense)               (None, 10)                1290      \n",
      "=================================================================\n",
      "Total params: 1,771,914\n",
      "Trainable params: 1,771,914\n",
      "Non-trainable params: 0\n",
      "_________________________________________________________________\n"
     ]
    }
   ],
   "source": [
    "\"\"\"\n",
    "Your code here\n",
    "\"\"\"\n",
    "def build_mlp(input_shape, output_units=10, num_neurons=[512, 256, 128, 128, 128]):\n",
    "    input_layer = keras.layers.Input(input_shape)\n",
    "    \n",
    "    for i, n_units in enumerate(num_neurons):\n",
    "        if i == 0:\n",
    "            x = keras.layers.Dense(units=n_units, activation=\"relu\", name=\"hidden_layer\"+str(i+1))(input_layer)\n",
    "        else:\n",
    "            x = keras.layers.Dense(units=n_units, activation=\"relu\", name=\"hidden_layer\"+str(i+1))(x)\n",
    "    \n",
    "    out = keras.layers.Dense(units=output_units, activation=\"softmax\", name=\"output\")(x)\n",
    "    \n",
    "    model = keras.models.Model(inputs=[input_layer], outputs=[out])\n",
    "    return model\n",
    "\n",
    "model = build_mlp(input_shape=x_train.shape[1:])\n",
    "model.summary()"
   ]
  },
  {
   "cell_type": "code",
   "execution_count": 15,
   "metadata": {},
   "outputs": [],
   "source": [
    "## 超參數設定\n",
    "LEARNING_RATE = 0.001\n",
    "EPOCHS = 100\n",
    "BATCH_SIZE = 256"
   ]
  },
  {
   "cell_type": "code",
   "execution_count": 16,
   "metadata": {},
   "outputs": [],
   "source": [
    "optimizer = keras.optimizers.Adam(lr=LEARNING_RATE)\n",
    "model.compile(loss=\"categorical_crossentropy\", metrics=[\"accuracy\"], optimizer=optimizer)"
   ]
  },
  {
   "cell_type": "code",
   "execution_count": 17,
   "metadata": {},
   "outputs": [
    {
     "name": "stdout",
     "output_type": "stream",
     "text": [
      "WARNING:tensorflow:From C:\\Users\\chian\\AppData\\Local\\Continuum\\anaconda3\\lib\\site-packages\\tensorflow\\python\\ops\\math_ops.py:3066: to_int32 (from tensorflow.python.ops.math_ops) is deprecated and will be removed in a future version.\n",
      "Instructions for updating:\n",
      "Use tf.cast instead.\n",
      "Train on 50000 samples, validate on 10000 samples\n",
      "Epoch 1/100\n",
      "50000/50000 [==============================] - 18s 355us/step - loss: 1.6861 - acc: 0.4007 - val_loss: 1.5368 - val_acc: 0.4587\n",
      "Epoch 2/100\n",
      "50000/50000 [==============================] - 17s 336us/step - loss: 1.4656 - acc: 0.4819 - val_loss: 1.4535 - val_acc: 0.4917\n",
      "Epoch 3/100\n",
      "50000/50000 [==============================] - 17s 339us/step - loss: 1.3495 - acc: 0.5218 - val_loss: 1.3991 - val_acc: 0.5076\n",
      "Epoch 4/100\n",
      "50000/50000 [==============================] - 17s 347us/step - loss: 1.2501 - acc: 0.5601 - val_loss: 1.3819 - val_acc: 0.5195\n",
      "Epoch 5/100\n",
      "50000/50000 [==============================] - 17s 349us/step - loss: 1.1709 - acc: 0.5855 - val_loss: 1.3828 - val_acc: 0.5248\n",
      "Epoch 6/100\n",
      "50000/50000 [==============================] - 19s 373us/step - loss: 1.0917 - acc: 0.6139 - val_loss: 1.3675 - val_acc: 0.5321\n",
      "Epoch 7/100\n",
      "50000/50000 [==============================] - 19s 375us/step - loss: 1.0205 - acc: 0.6396 - val_loss: 1.3730 - val_acc: 0.5350\n",
      "Epoch 8/100\n",
      "50000/50000 [==============================] - 18s 362us/step - loss: 0.9496 - acc: 0.6630 - val_loss: 1.3893 - val_acc: 0.5355\n",
      "Epoch 9/100\n",
      "50000/50000 [==============================] - 18s 369us/step - loss: 0.8838 - acc: 0.6874 - val_loss: 1.4047 - val_acc: 0.5427\n",
      "Epoch 10/100\n",
      "50000/50000 [==============================] - 19s 370us/step - loss: 0.8073 - acc: 0.7152 - val_loss: 1.4971 - val_acc: 0.5278\n",
      "Epoch 11/100\n",
      "50000/50000 [==============================] - 19s 380us/step - loss: 0.7459 - acc: 0.7356 - val_loss: 1.5267 - val_acc: 0.5352\n",
      "Epoch 12/100\n",
      "50000/50000 [==============================] - 18s 365us/step - loss: 0.6805 - acc: 0.7597 - val_loss: 1.6015 - val_acc: 0.5342\n",
      "Epoch 13/100\n",
      "50000/50000 [==============================] - 22s 443us/step - loss: 0.6239 - acc: 0.7774 - val_loss: 1.6167 - val_acc: 0.5453\n",
      "Epoch 14/100\n",
      "50000/50000 [==============================] - 25s 491us/step - loss: 0.5649 - acc: 0.8000 - val_loss: 1.7519 - val_acc: 0.5250\n",
      "Epoch 15/100\n",
      "50000/50000 [==============================] - 23s 470us/step - loss: 0.5274 - acc: 0.8135 - val_loss: 1.7655 - val_acc: 0.5401\n",
      "Epoch 16/100\n",
      "50000/50000 [==============================] - 24s 483us/step - loss: 0.4724 - acc: 0.8334 - val_loss: 1.8829 - val_acc: 0.5290\n",
      "Epoch 17/100\n",
      "50000/50000 [==============================] - 25s 497us/step - loss: 0.4455 - acc: 0.8422 - val_loss: 1.9505 - val_acc: 0.5356\n",
      "Epoch 18/100\n",
      "50000/50000 [==============================] - 24s 486us/step - loss: 0.4136 - acc: 0.8523 - val_loss: 2.0388 - val_acc: 0.5363\n",
      "Epoch 19/100\n",
      "50000/50000 [==============================] - 23s 467us/step - loss: 0.3755 - acc: 0.8668 - val_loss: 2.1676 - val_acc: 0.5316\n",
      "Epoch 20/100\n",
      "50000/50000 [==============================] - 23s 467us/step - loss: 0.3523 - acc: 0.8749 - val_loss: 2.2480 - val_acc: 0.5338\n",
      "Epoch 21/100\n",
      "50000/50000 [==============================] - 23s 457us/step - loss: 0.3217 - acc: 0.8871 - val_loss: 2.2230 - val_acc: 0.5318\n",
      "Epoch 22/100\n",
      "50000/50000 [==============================] - 23s 451us/step - loss: 0.2987 - acc: 0.8938 - val_loss: 2.3553 - val_acc: 0.5376\n",
      "Epoch 23/100\n",
      "50000/50000 [==============================] - 22s 449us/step - loss: 0.2786 - acc: 0.9022 - val_loss: 2.3705 - val_acc: 0.5261\n",
      "Epoch 24/100\n",
      "50000/50000 [==============================] - 22s 442us/step - loss: 0.2692 - acc: 0.9068 - val_loss: 2.5217 - val_acc: 0.5258\n",
      "Epoch 25/100\n",
      "50000/50000 [==============================] - 21s 428us/step - loss: 0.2599 - acc: 0.9091 - val_loss: 2.6839 - val_acc: 0.5342\n",
      "Epoch 26/100\n",
      "50000/50000 [==============================] - 21s 428us/step - loss: 0.2386 - acc: 0.9167 - val_loss: 2.7033 - val_acc: 0.5247\n",
      "Epoch 27/100\n",
      "50000/50000 [==============================] - 21s 425us/step - loss: 0.2256 - acc: 0.9212 - val_loss: 2.7521 - val_acc: 0.5263\n",
      "Epoch 28/100\n",
      "50000/50000 [==============================] - 22s 432us/step - loss: 0.2205 - acc: 0.9230 - val_loss: 2.8318 - val_acc: 0.5315\n",
      "Epoch 29/100\n",
      "50000/50000 [==============================] - 22s 434us/step - loss: 0.2033 - acc: 0.9286 - val_loss: 2.7797 - val_acc: 0.5349\n",
      "Epoch 30/100\n",
      "50000/50000 [==============================] - 21s 426us/step - loss: 0.2045 - acc: 0.9301 - val_loss: 2.8517 - val_acc: 0.5290\n",
      "Epoch 31/100\n",
      "50000/50000 [==============================] - 21s 426us/step - loss: 0.1818 - acc: 0.9353 - val_loss: 3.0349 - val_acc: 0.5294\n",
      "Epoch 32/100\n",
      "50000/50000 [==============================] - 21s 426us/step - loss: 0.1875 - acc: 0.9358 - val_loss: 2.9420 - val_acc: 0.5281\n",
      "Epoch 33/100\n",
      "50000/50000 [==============================] - 21s 424us/step - loss: 0.1855 - acc: 0.9375 - val_loss: 2.8967 - val_acc: 0.5335\n",
      "Epoch 34/100\n",
      "50000/50000 [==============================] - 21s 428us/step - loss: 0.1675 - acc: 0.9424 - val_loss: 3.0266 - val_acc: 0.5279\n",
      "Epoch 35/100\n",
      "50000/50000 [==============================] - 21s 425us/step - loss: 0.1695 - acc: 0.9420 - val_loss: 3.1061 - val_acc: 0.5313\n",
      "Epoch 36/100\n",
      "50000/50000 [==============================] - 21s 426us/step - loss: 0.1712 - acc: 0.9416 - val_loss: 3.1605 - val_acc: 0.5219\n",
      "Epoch 37/100\n",
      "50000/50000 [==============================] - 22s 433us/step - loss: 0.1573 - acc: 0.9461 - val_loss: 3.2305 - val_acc: 0.5351\n",
      "Epoch 38/100\n",
      "50000/50000 [==============================] - 22s 434us/step - loss: 0.1517 - acc: 0.9499 - val_loss: 3.1497 - val_acc: 0.5273\n",
      "Epoch 39/100\n",
      "50000/50000 [==============================] - 21s 428us/step - loss: 0.1525 - acc: 0.9486 - val_loss: 3.2108 - val_acc: 0.5330\n",
      "Epoch 40/100\n",
      "50000/50000 [==============================] - 22s 431us/step - loss: 0.1523 - acc: 0.9489 - val_loss: 3.2382 - val_acc: 0.5313\n",
      "Epoch 41/100\n",
      "50000/50000 [==============================] - 21s 426us/step - loss: 0.1415 - acc: 0.9521 - val_loss: 3.1629 - val_acc: 0.5351\n",
      "Epoch 42/100\n",
      "50000/50000 [==============================] - 21s 427us/step - loss: 0.1323 - acc: 0.9557 - val_loss: 3.2185 - val_acc: 0.5294\n",
      "Epoch 43/100\n",
      "50000/50000 [==============================] - 21s 427us/step - loss: 0.1483 - acc: 0.9499 - val_loss: 3.3848 - val_acc: 0.5357\n",
      "Epoch 44/100\n",
      "50000/50000 [==============================] - 21s 426us/step - loss: 0.1376 - acc: 0.9535 - val_loss: 3.3914 - val_acc: 0.5196\n",
      "Epoch 45/100\n",
      "50000/50000 [==============================] - 22s 431us/step - loss: 0.1378 - acc: 0.9542 - val_loss: 3.3813 - val_acc: 0.5301\n",
      "Epoch 46/100\n",
      "50000/50000 [==============================] - 21s 428us/step - loss: 0.1224 - acc: 0.9580 - val_loss: 3.5693 - val_acc: 0.5283\n",
      "Epoch 47/100\n",
      "50000/50000 [==============================] - 21s 428us/step - loss: 0.1368 - acc: 0.9533 - val_loss: 3.4380 - val_acc: 0.5305\n",
      "Epoch 48/100\n",
      "50000/50000 [==============================] - 21s 428us/step - loss: 0.1172 - acc: 0.9609 - val_loss: 3.3997 - val_acc: 0.5373\n",
      "Epoch 49/100\n",
      "50000/50000 [==============================] - 21s 429us/step - loss: 0.1138 - acc: 0.9623 - val_loss: 3.5373 - val_acc: 0.5292\n",
      "Epoch 50/100\n",
      "50000/50000 [==============================] - 22s 430us/step - loss: 0.1434 - acc: 0.9528 - val_loss: 3.3906 - val_acc: 0.5273\n",
      "Epoch 51/100\n",
      "50000/50000 [==============================] - 22s 438us/step - loss: 0.1079 - acc: 0.9636 - val_loss: 3.4977 - val_acc: 0.5318\n",
      "Epoch 52/100\n",
      "50000/50000 [==============================] - 22s 435us/step - loss: 0.1142 - acc: 0.9625 - val_loss: 3.4508 - val_acc: 0.5264\n",
      "Epoch 53/100\n",
      "50000/50000 [==============================] - 22s 441us/step - loss: 0.1227 - acc: 0.9589 - val_loss: 3.4943 - val_acc: 0.5297\n",
      "Epoch 54/100\n",
      "50000/50000 [==============================] - 22s 446us/step - loss: 0.1126 - acc: 0.9623 - val_loss: 3.5197 - val_acc: 0.5228\n",
      "Epoch 55/100\n",
      "50000/50000 [==============================] - 22s 450us/step - loss: 0.1207 - acc: 0.9594 - val_loss: 3.4920 - val_acc: 0.5254\n",
      "Epoch 56/100\n",
      "50000/50000 [==============================] - 23s 452us/step - loss: 0.1038 - acc: 0.9654 - val_loss: 3.6544 - val_acc: 0.5293\n"
     ]
    },
    {
     "name": "stdout",
     "output_type": "stream",
     "text": [
      "Epoch 57/100\n",
      "50000/50000 [==============================] - 21s 424us/step - loss: 0.1067 - acc: 0.9648 - val_loss: 3.5507 - val_acc: 0.5301\n",
      "Epoch 58/100\n",
      "50000/50000 [==============================] - 21s 423us/step - loss: 0.1070 - acc: 0.9647 - val_loss: 3.5249 - val_acc: 0.5369\n",
      "Epoch 59/100\n",
      "50000/50000 [==============================] - 21s 423us/step - loss: 0.0953 - acc: 0.9683 - val_loss: 3.5942 - val_acc: 0.5268\n",
      "Epoch 60/100\n",
      "50000/50000 [==============================] - 21s 426us/step - loss: 0.1006 - acc: 0.9669 - val_loss: 3.7210 - val_acc: 0.5347\n",
      "Epoch 61/100\n",
      "50000/50000 [==============================] - 21s 425us/step - loss: 0.1099 - acc: 0.9641 - val_loss: 3.5658 - val_acc: 0.5340\n",
      "Epoch 62/100\n",
      "50000/50000 [==============================] - 21s 428us/step - loss: 0.1145 - acc: 0.9620 - val_loss: 3.5893 - val_acc: 0.5330\n",
      "Epoch 63/100\n",
      "50000/50000 [==============================] - 21s 429us/step - loss: 0.0899 - acc: 0.9704 - val_loss: 3.6057 - val_acc: 0.5367\n",
      "Epoch 64/100\n",
      "50000/50000 [==============================] - 21s 426us/step - loss: 0.0825 - acc: 0.9728 - val_loss: 3.6739 - val_acc: 0.5260\n",
      "Epoch 65/100\n",
      "50000/50000 [==============================] - 21s 426us/step - loss: 0.1193 - acc: 0.9610 - val_loss: 3.5182 - val_acc: 0.5330\n",
      "Epoch 66/100\n",
      "50000/50000 [==============================] - 21s 425us/step - loss: 0.0967 - acc: 0.9686 - val_loss: 3.6332 - val_acc: 0.5298\n",
      "Epoch 67/100\n",
      "50000/50000 [==============================] - 21s 427us/step - loss: 0.0811 - acc: 0.9736 - val_loss: 3.7146 - val_acc: 0.5248\n",
      "Epoch 68/100\n",
      "50000/50000 [==============================] - 22s 432us/step - loss: 0.1039 - acc: 0.9669 - val_loss: 3.6098 - val_acc: 0.5289\n",
      "Epoch 69/100\n",
      "50000/50000 [==============================] - 21s 427us/step - loss: 0.0884 - acc: 0.9708 - val_loss: 3.6273 - val_acc: 0.5286\n",
      "Epoch 70/100\n",
      "50000/50000 [==============================] - 21s 428us/step - loss: 0.0916 - acc: 0.9701 - val_loss: 3.6895 - val_acc: 0.5240\n",
      "Epoch 71/100\n",
      "50000/50000 [==============================] - 21s 427us/step - loss: 0.0918 - acc: 0.9699 - val_loss: 3.6870 - val_acc: 0.5305\n",
      "Epoch 72/100\n",
      "50000/50000 [==============================] - 21s 425us/step - loss: 0.0926 - acc: 0.9694 - val_loss: 3.6844 - val_acc: 0.5252\n",
      "Epoch 73/100\n",
      "50000/50000 [==============================] - 21s 426us/step - loss: 0.0912 - acc: 0.9694 - val_loss: 3.6759 - val_acc: 0.5256\n",
      "Epoch 74/100\n",
      "50000/50000 [==============================] - 21s 423us/step - loss: 0.0977 - acc: 0.9677 - val_loss: 3.7572 - val_acc: 0.5291\n",
      "Epoch 75/100\n",
      "50000/50000 [==============================] - 21s 423us/step - loss: 0.0772 - acc: 0.9753 - val_loss: 3.8293 - val_acc: 0.5255\n",
      "Epoch 76/100\n",
      "50000/50000 [==============================] - 21s 424us/step - loss: 0.0847 - acc: 0.9726 - val_loss: 3.6578 - val_acc: 0.5348\n",
      "Epoch 77/100\n",
      "50000/50000 [==============================] - 21s 424us/step - loss: 0.0720 - acc: 0.9767 - val_loss: 3.7947 - val_acc: 0.5288\n",
      "Epoch 78/100\n",
      "50000/50000 [==============================] - 21s 427us/step - loss: 0.0896 - acc: 0.9712 - val_loss: 3.6958 - val_acc: 0.5294\n",
      "Epoch 79/100\n",
      "50000/50000 [==============================] - 21s 426us/step - loss: 0.0753 - acc: 0.9758 - val_loss: 3.8137 - val_acc: 0.5245\n",
      "Epoch 80/100\n",
      "50000/50000 [==============================] - 21s 425us/step - loss: 0.0844 - acc: 0.9728 - val_loss: 3.7963 - val_acc: 0.5304\n",
      "Epoch 81/100\n",
      "50000/50000 [==============================] - 24s 474us/step - loss: 0.0869 - acc: 0.9709 - val_loss: 3.6024 - val_acc: 0.5312\n",
      "Epoch 82/100\n",
      "50000/50000 [==============================] - 25s 496us/step - loss: 0.0882 - acc: 0.9717 - val_loss: 3.6465 - val_acc: 0.5326\n",
      "Epoch 83/100\n",
      "50000/50000 [==============================] - 21s 429us/step - loss: 0.0764 - acc: 0.9756 - val_loss: 3.8086 - val_acc: 0.5325\n",
      "Epoch 84/100\n",
      "50000/50000 [==============================] - 22s 431us/step - loss: 0.0839 - acc: 0.9731 - val_loss: 3.7945 - val_acc: 0.5308\n",
      "Epoch 85/100\n",
      "50000/50000 [==============================] - 21s 428us/step - loss: 0.0685 - acc: 0.9784 - val_loss: 3.8503 - val_acc: 0.5270\n",
      "Epoch 86/100\n",
      "50000/50000 [==============================] - 22s 440us/step - loss: 0.0829 - acc: 0.9737 - val_loss: 3.7119 - val_acc: 0.5255\n",
      "Epoch 87/100\n",
      "50000/50000 [==============================] - 21s 420us/step - loss: 0.0674 - acc: 0.9779 - val_loss: 3.8530 - val_acc: 0.5338\n",
      "Epoch 88/100\n",
      "50000/50000 [==============================] - 21s 420us/step - loss: 0.0646 - acc: 0.9788 - val_loss: 3.8385 - val_acc: 0.5355\n",
      "Epoch 89/100\n",
      "50000/50000 [==============================] - 21s 419us/step - loss: 0.0892 - acc: 0.9720 - val_loss: 3.7618 - val_acc: 0.5280\n",
      "Epoch 90/100\n",
      "50000/50000 [==============================] - 21s 420us/step - loss: 0.0722 - acc: 0.9760 - val_loss: 3.8041 - val_acc: 0.5305\n",
      "Epoch 91/100\n",
      "50000/50000 [==============================] - 21s 417us/step - loss: 0.0594 - acc: 0.9802 - val_loss: 3.9415 - val_acc: 0.5314\n",
      "Epoch 92/100\n",
      "50000/50000 [==============================] - 21s 418us/step - loss: 0.0923 - acc: 0.9708 - val_loss: 3.7513 - val_acc: 0.5356\n",
      "Epoch 93/100\n",
      "50000/50000 [==============================] - 21s 417us/step - loss: 0.0684 - acc: 0.9780 - val_loss: 3.8000 - val_acc: 0.5298\n",
      "Epoch 94/100\n",
      "50000/50000 [==============================] - 21s 416us/step - loss: 0.0805 - acc: 0.9748 - val_loss: 3.7058 - val_acc: 0.5263\n",
      "Epoch 95/100\n",
      "50000/50000 [==============================] - 21s 414us/step - loss: 0.0583 - acc: 0.9812 - val_loss: 3.8866 - val_acc: 0.5360\n",
      "Epoch 96/100\n",
      "50000/50000 [==============================] - 21s 416us/step - loss: 0.0771 - acc: 0.9750 - val_loss: 3.8752 - val_acc: 0.5286\n",
      "Epoch 97/100\n",
      "50000/50000 [==============================] - 21s 421us/step - loss: 0.0672 - acc: 0.9783 - val_loss: 3.7843 - val_acc: 0.5281\n",
      "Epoch 98/100\n",
      "50000/50000 [==============================] - 21s 419us/step - loss: 0.0781 - acc: 0.9758 - val_loss: 3.9168 - val_acc: 0.5348\n",
      "Epoch 99/100\n",
      "50000/50000 [==============================] - 21s 410us/step - loss: 0.0631 - acc: 0.9802 - val_loss: 4.0075 - val_acc: 0.5291\n",
      "Epoch 100/100\n",
      "50000/50000 [==============================] - 20s 409us/step - loss: 0.0674 - acc: 0.9788 - val_loss: 3.9399 - val_acc: 0.5263\n"
     ]
    },
    {
     "data": {
      "text/plain": [
       "<keras.callbacks.History at 0x17a8b5689e8>"
      ]
     },
     "execution_count": 17,
     "metadata": {},
     "output_type": "execute_result"
    }
   ],
   "source": [
    "model.fit(x_train, y_train, \n",
    "          epochs=EPOCHS, \n",
    "          batch_size=BATCH_SIZE, \n",
    "          validation_data=(x_test, y_test), \n",
    "          shuffle=True)"
   ]
  },
  {
   "cell_type": "code",
   "execution_count": 19,
   "metadata": {},
   "outputs": [
    {
     "data": {
      "image/png": "[encoded data removed]",
      "text/plain": [
       "<Figure size 432x288 with 1 Axes>"
      ]
     },
     "metadata": {
      "needs_background": "light"
     },
     "output_type": "display_data"
    },
    {
     "data": {
      "image/png": "[encoded data removed]",
      "text/plain": [
       "<Figure size 432x288 with 1 Axes>"
      ]
     },
     "metadata": {
      "needs_background": "light"
     },
     "output_type": "display_data"
    }
   ],
   "source": [
    "import matplotlib.pyplot as plt\n",
    "%matplotlib inline\n",
    "\n",
    "train_loss = model.history.history[\"loss\"]\n",
    "valid_loss = model.history.history[\"val_loss\"]\n",
    "\n",
    "train_acc = model.history.history[\"acc\"]\n",
    "valid_acc = model.history.history[\"val_acc\"]\n",
    "\n",
    "plt.plot(range(len(train_loss)), train_loss, label=\"train loss\")\n",
    "plt.plot(range(len(valid_loss)), valid_loss, label=\"valid loss\")\n",
    "plt.legend()\n",
    "plt.title(\"Loss\")\n",
    "plt.show()\n",
    "\n",
    "plt.plot(range(len(train_acc)), train_acc, label=\"train accuracy\")\n",
    "plt.plot(range(len(valid_acc)), valid_acc, label=\"valid accuracy\")\n",
    "plt.legend()\n",
    "plt.title(\"Accuracy\")\n",
    "plt.show()"
   ]
  },
  {
   "cell_type": "code",
   "execution_count": null,
   "metadata": {},
   "outputs": [],
   "source": []
  }
 ],
 "metadata": {
  "kernelspec": {
   "display_name": "Python 3",
   "language": "python",
   "name": "python3"
  },
  "language_info": {
   "codemirror_mode": {
    "name": "ipython",
    "version": 3
   },
   "file_extension": ".py",
   "mimetype": "text/x-python",
   "name": "python",
   "nbconvert_exporter": "python",
   "pygments_lexer": "ipython3",
   "version": "3.7.1"
  }
 },
 "nbformat": 4,
 "nbformat_minor": 2
}
